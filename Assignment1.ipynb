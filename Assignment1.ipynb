{
 "cells": [
  {
   "cell_type": "code",
   "execution_count": 56,
   "id": "8eb6387a",
   "metadata": {},
   "outputs": [
    {
     "name": "stdout",
     "output_type": "stream",
     "text": [
      "Sorted Order of 10 Student Ages: [19, 19, 20, 22, 24, 24, 24, 25, 25, 26]\n",
      "Minimum age among the students age list is: 19\n",
      "Maximum age among the students age list is: 26\n",
      "After addition of Min age and Max age the Student List is [19, 19, 19, 20, 22, 24, 24, 24, 25, 25, 26, 26]\n"
     ]
    }
   ],
   "source": [
    "# Question 1\n",
    "\n",
    "ages = [19,22,19,24,20,25,26,24,25,24]\n",
    "\n",
    "#Sort the given list Ages, values will re-arrranged in ascendng order\n",
    "ages.sort()\n",
    "\n",
    "#Print the Sorted Order List\n",
    "print('Sorted Order of 10 Student Ages:', ages)\n",
    "\n",
    "#Find Minimum Age in the list\n",
    "minimum_age = min(ages)\n",
    "print('Minimum age among the students age list is:',minimum_age)\n",
    "\n",
    "#Find Maximum Age in the list\n",
    "maximum_age = max(ages)\n",
    "print('Maximum age among the students age list is:',maximum_age)\n",
    "\n",
    "#Add min and maximum to the list\n",
    "ages.extend([minimum_age, maximum_age])\n",
    "ages.sort()\n",
    "print('After addition of Min age and Max age the Student List is', ages)\n"
   ]
  },
  {
   "cell_type": "code",
   "execution_count": 57,
   "id": "bc03a8f6",
   "metadata": {},
   "outputs": [
    {
     "name": "stdout",
     "output_type": "stream",
     "text": [
      "The Median is: 24.0\n",
      "The Average value of the students age list is: 22.75\n",
      "The Range value of the student list is: 7\n"
     ]
    }
   ],
   "source": [
    "#Call median function to calculate median value\n",
    "\n",
    "#Calculate length of ages\n",
    "n = len(ages)\n",
    "\n",
    "#Check for even/odd value \n",
    "if n % 2 == 0:\n",
    "    median1 = ages[n//2]\n",
    "    median2 = ages[n//2 - 1]\n",
    "    median = (median1 + median2)/2\n",
    "else:\n",
    "    median = n_num[n//2]\n",
    "print(\"The Median is: \" + str(median))\n",
    "\n",
    "# Calculate Average\n",
    "def Average(ages):return sum(ages) / len(ages)\n",
    "avg_val = Average(ages)\n",
    "print('The Average value of the students age list is:',avg_val)\n",
    "\n",
    "#Calculate Range of the List\n",
    "range_val = maximum_age - minimum_age\n",
    "print('The Range value of the student list is:',range_val)"
   ]
  },
  {
   "cell_type": "code",
   "execution_count": 58,
   "id": "eb7b0304",
   "metadata": {},
   "outputs": [
    {
     "name": "stdout",
     "output_type": "stream",
     "text": [
      "The dog's list - {'name': 'puppy', 'color': 'brown', 'breed': 'Lab', 'legs': '4', 'age': '2 Years'}\n",
      "\n",
      "The Student dictionary details -  {'first_name': 'Jason', 'Last_name': 'Roy', 'gender': 'male', 'age': '24', 'martial status': 'single', 'skills': ['Python, ABAP, C++, React'], 'country': 'USA', 'city': 'Overland Park', 'address': {'1441 West, 140 street, Apt 101'}}\n",
      "\n",
      "The length of student dictionary is - 9\n",
      "\n",
      "Value of key skills is - ['Python, ABAP, C++, React']\n",
      "\n",
      "The type is: <class 'list'>\n",
      "\n",
      "Total Students skills set is - ['Python, ABAP, C++, React', ['Java', 'Node']]\n",
      "\n",
      "Dictionary Key -  dict_keys(['first_name', 'Last_name', 'gender', 'age', 'martial status', 'skills', 'country', 'city', 'address'])\n",
      "\n",
      "Dictionary values -  dict_values(['Jason', 'Roy', 'male', '24', 'single', ['Python, ABAP, C++, React', ['Java', 'Node']], 'USA', 'Overland Park', {'1441 West, 140 street, Apt 101'}])\n"
     ]
    }
   ],
   "source": [
    "#Question 2\n",
    "\n",
    "#Empty dictionary of dog\n",
    "dog = {}\n",
    "\n",
    "#Adding key and values to empty dictionary\n",
    "dog[\"name\"]  = \"puppy\" \n",
    "dog[\"color\"] = \"brown\"\n",
    "dog[\"breed\"] = \"Lab\"\n",
    "dog[\"legs\"]  = \"4\"\n",
    "dog[\"age\"]   = \"2 Years\"\n",
    "print('The dog\\'s' ' list -', dog)\n",
    "\n",
    "#Student dictionary\n",
    "student = {\n",
    "          'first_name':'Jason',\n",
    "          'Last_name': 'Roy',\n",
    "          'gender':'male', 'age': '24',\n",
    "          'martial status':'single',\n",
    "          'skills': ['Python, ABAP, C++, React'],\n",
    "          'country':'USA',\n",
    "          'city':'Overland Park',\n",
    "          'address':{'1441 West, 140 street, Apt 101' } \n",
    "           }\n",
    "\n",
    "print('\\nThe Student dictionary details - ',student)\n",
    "\n",
    "#Length of student Dictionary\n",
    "print('\\nThe length of student dictionary is -',len(student))\n",
    "\n",
    "#Get the value to skills\n",
    "print('\\nValue of key skills is -',student['skills'])\n",
    "\n",
    "#Get the Data type of skill\n",
    "skill_type = type(student['skills'])\n",
    "print('\\nThe type is:',skill_type)\n",
    "\n",
    "#Append new skills to key - skills \n",
    "student['skills'].append(['Java','Node'])\n",
    "print('\\nTotal Students skills set is -',student['skills'])\n",
    "\n",
    "#Get all Keys of dictionary as a list\n",
    "print('\\nDictionary Key - ',student.keys())\n",
    "\n",
    "#Get all values of dictionary as a list\n",
    "print('\\nDictionary values - ',student.values())"
   ]
  },
  {
   "cell_type": "code",
   "execution_count": 59,
   "id": "ad5685a8",
   "metadata": {},
   "outputs": [
    {
     "name": "stdout",
     "output_type": "stream",
     "text": [
      "tuple with names of brother - ('Johnson', 'Holder')\n",
      "tuple with names of sister - ('Laura', 'Emiley')\n",
      "Siblings tuple is - ('Johnson', 'Holder', 'Laura', 'Emiley')\n",
      "Total number of siblings I have is -  4\n",
      "Names of all family members -  ('Johnson', 'Holder', 'Laura', 'Emiley', 'Abraham', 'Ross')\n"
     ]
    }
   ],
   "source": [
    "#Question 3\n",
    "#Tuple's holding names of Brother\n",
    "bro_tpl = ('Johnson', 'Holder')\n",
    "print('tuple with names of brother -',bro_tpl)\n",
    "\n",
    "#Tuple's holding names of Sister\n",
    "sis_tpl = ('Laura', 'Emiley')\n",
    "print('tuple with names of sister -',sis_tpl)\n",
    "\n",
    "#Joining tuples to form siblings tuple\n",
    "sib_tpl = bro_tpl + sis_tpl\n",
    "print('Siblings tuple is -',sib_tpl)\n",
    "\n",
    "#Length of siblings tuple\n",
    "print('Total number of siblings I have is - ',len(sib_tpl))\n",
    "\n",
    "#Add father and mother names to the tuple, Since Tuple is immutable,changing \n",
    "#tuple to list and adding father and mother and converting back to tuple\n",
    "fam_list = list(sib_tpl)\n",
    "fam_list.append('Abraham')\n",
    "fam_list.append('Ross')\n",
    "family_members = tuple(fam_list)\n",
    "print('Names of all family members - ',family_members)"
   ]
  },
  {
   "cell_type": "code",
   "execution_count": 60,
   "id": "677a2a85",
   "metadata": {},
   "outputs": [
    {
     "name": "stdout",
     "output_type": "stream",
     "text": [
      "The length of set it_companies is -  7\n",
      "\n",
      "Set of it_companies after addition - {'Google', 'IBM', 'Oracle', 'Twitter', 'Amazon', 'Facebook', 'Microsoft', 'Apple'}\n",
      "\n",
      "New set of it_companies after inserting - {'Tesla', 'Amazon', 'Microsoft', 'Apple', 'IBM', 'Facebook', 'BMW', 'Google', 'Benz', 'Twitter', 'Toyota', 'Oracle'}\n",
      "\n",
      "New set of it_companies after removal of an item - {'Tesla', 'Amazon', 'Microsoft', 'Apple', 'IBM', 'Facebook', 'BMW', 'Google', 'Benz', 'Twitter', 'Toyota'}\n"
     ]
    }
   ],
   "source": [
    "#Question4\n",
    "\n",
    "#Get the length of set\n",
    "it_companies = {'Facebook', 'Google', 'Microsoft', 'Apple', 'IBM', 'Oracle', 'Amazon'}\n",
    "print('The length of set it_companies is - ',len(it_companies))\n",
    "\n",
    "#Add a value to the it_companies set\n",
    "it_companies.add('Twitter')\n",
    "print('\\nSet of it_companies after addition -', it_companies)\n",
    "\n",
    "#Insert multiple IT companies to the set\n",
    "it_companies.update(['Tesla','BMW','Toyota','Benz'])\n",
    "print('\\nNew set of it_companies after inserting -', it_companies)\n",
    "\n",
    "#Remove one of the item from the set\n",
    "it_companies.remove('Oracle')\n",
    "print('\\nNew set of it_companies after removal of an item -', it_companies)"
   ]
  },
  {
   "cell_type": "code",
   "execution_count": 37,
   "id": "f4346d67",
   "metadata": {},
   "outputs": [
    {
     "ename": "KeyError",
     "evalue": "'one_plus'",
     "output_type": "error",
     "traceback": [
      "\u001b[1;31m---------------------------------------------------------------------------\u001b[0m",
      "\u001b[1;31mKeyError\u001b[0m                                  Traceback (most recent call last)",
      "Input \u001b[1;32mIn [37]\u001b[0m, in \u001b[0;36m<cell line: 3>\u001b[1;34m()\u001b[0m\n\u001b[0;32m      1\u001b[0m \u001b[38;5;66;03m#Remove an item which is not in the set\u001b[39;00m\n\u001b[0;32m      2\u001b[0m \u001b[38;5;66;03m#The remove method raises an error when the specified element doesn't exist in the given set\u001b[39;00m\n\u001b[1;32m----> 3\u001b[0m \u001b[43mit_companies\u001b[49m\u001b[38;5;241;43m.\u001b[39;49m\u001b[43mremove\u001b[49m\u001b[43m(\u001b[49m\u001b[38;5;124;43m'\u001b[39;49m\u001b[38;5;124;43mone_plus\u001b[39;49m\u001b[38;5;124;43m'\u001b[39;49m\u001b[43m)\u001b[49m\n",
      "\u001b[1;31mKeyError\u001b[0m: 'one_plus'"
     ]
    }
   ],
   "source": [
    "#Remove an item which is not in the set\n",
    "#The remove method raises an error when the specified element doesn't exist in the given set\n",
    "it_companies.remove('one_plus')"
   ]
  },
  {
   "cell_type": "code",
   "execution_count": 38,
   "id": "a8052000",
   "metadata": {},
   "outputs": [
    {
     "name": "stdout",
     "output_type": "stream",
     "text": [
      "New set of it_companies after removal of an item using discard - {'Tesla', 'Amazon', 'Microsoft', 'Apple', 'IBM', 'Facebook', 'BMW', 'Google', 'Benz', 'Twitter', 'Toyota'}\n"
     ]
    }
   ],
   "source": [
    "#Remove an item which is not in the set\n",
    "#The discard() method doesn't raise any error if the specified \n",
    "#element is not present in the set and the set remains unchanged.\n",
    "it_companies.discard('ABC')\n",
    "print('New set of it_companies after removal of an item using discard -', it_companies)"
   ]
  },
  {
   "cell_type": "code",
   "execution_count": 61,
   "id": "78a07f7f",
   "metadata": {},
   "outputs": [
    {
     "name": "stdout",
     "output_type": "stream",
     "text": [
      "union of A and B - {19, 20, 22, 24, 25, 26, 27, 28}\n",
      "intersection of A and B - {19, 20, 22, 24, 25, 26}\n",
      "Is A subset of B - True\n",
      "Are A and B disjoint sets - False\n",
      "Join of A with B - {19, 20, 22, 24, 25, 26, 27, 28}\n",
      "Join of B with A - {19, 20, 22, 24, 25, 26, 27, 28}\n",
      "The symmetric difference between A and B is - {27, 28}\n"
     ]
    }
   ],
   "source": [
    "#Join two given sets\n",
    "A = {19, 22, 24, 20, 25, 26}\n",
    "B = {19, 22, 20, 25, 26, 24, 28, 27}\n",
    "\n",
    "#Combining two sets into one\n",
    "union_AB = A.union(B)\n",
    "print('union of A and B -', union_AB)\n",
    "\n",
    "#Common items between to sets\n",
    "intersection_AB = A.intersection(B)\n",
    "print('intersection of A and B -', intersection_AB)\n",
    "\n",
    "#Check if is A subset of B\n",
    "print('Is A subset of B -',A.issubset(B))\n",
    "\n",
    "#Check if A and B sets are disjoint sets\n",
    "print('Are A and B disjoint sets -',A.isdisjoint(B))\n",
    "\n",
    "#Join A with B \n",
    "A_with_B = A.union(B)\n",
    "print('Join of A with B -',A_with_B)\n",
    "\n",
    "#Join B with A\n",
    "B_with_A = B.union(A)\n",
    "print('Join of B with A -',B_with_A)\n",
    "\n",
    "#the symmetric difference between A and B\n",
    "sym_dif_AB = A.symmetric_difference(B)\n",
    "print('The symmetric difference between A and B is -',sym_dif_AB)\n"
   ]
  },
  {
   "cell_type": "code",
   "execution_count": 62,
   "id": "d950a0dd",
   "metadata": {},
   "outputs": [
    {
     "ename": "NameError",
     "evalue": "name 'A' is not defined",
     "output_type": "error",
     "traceback": [
      "\u001b[1;31m---------------------------------------------------------------------------\u001b[0m",
      "\u001b[1;31mNameError\u001b[0m                                 Traceback (most recent call last)",
      "Input \u001b[1;32mIn [62]\u001b[0m, in \u001b[0;36m<cell line: 5>\u001b[1;34m()\u001b[0m\n\u001b[0;32m      2\u001b[0m \u001b[38;5;28;01mdel\u001b[39;00m A\n\u001b[0;32m      3\u001b[0m \u001b[38;5;28;01mdel\u001b[39;00m B\n\u001b[1;32m----> 5\u001b[0m \u001b[38;5;28mprint\u001b[39m(\u001b[43mA\u001b[49m)\n",
      "\u001b[1;31mNameError\u001b[0m: name 'A' is not defined"
     ]
    }
   ],
   "source": [
    "#Delete the Sets A and B Completely\n",
    "del A\n",
    "del B\n",
    "\n",
    "print(A)"
   ]
  },
  {
   "cell_type": "code",
   "execution_count": 63,
   "id": "63b21de4",
   "metadata": {},
   "outputs": [
    {
     "ename": "NameError",
     "evalue": "name 'B' is not defined",
     "output_type": "error",
     "traceback": [
      "\u001b[1;31m---------------------------------------------------------------------------\u001b[0m",
      "\u001b[1;31mNameError\u001b[0m                                 Traceback (most recent call last)",
      "Input \u001b[1;32mIn [63]\u001b[0m, in \u001b[0;36m<cell line: 1>\u001b[1;34m()\u001b[0m\n\u001b[1;32m----> 1\u001b[0m \u001b[38;5;28mprint\u001b[39m(\u001b[43mB\u001b[49m)\n",
      "\u001b[1;31mNameError\u001b[0m: name 'B' is not defined"
     ]
    }
   ],
   "source": [
    "print(B)"
   ]
  },
  {
   "cell_type": "code",
   "execution_count": 64,
   "id": "f7ccdab3",
   "metadata": {},
   "outputs": [
    {
     "name": "stdout",
     "output_type": "stream",
     "text": [
      "the length of age list: 8\n",
      "the length of age set: 5\n",
      "The set of ages - {19, 22, 24, 25, 26}\n",
      "On comparing length of list and set - False\n"
     ]
    }
   ],
   "source": [
    "#Convert list to set\n",
    "age = [22, 19, 24, 25, 26, 24, 25, 24]\n",
    "\n",
    "#Calculate length of List\n",
    "len_age_list = len(age)\n",
    "\n",
    "#Convert List to set\n",
    "age_set = set(age)\n",
    "\n",
    "#Calculate length of set\n",
    "len_age_set = len(age_set)\n",
    "\n",
    "#Print length of Age List and Age set\n",
    "print('the length of age list:',len_age_list)\n",
    "print('the length of age set:',len_age_set)\n",
    "\n",
    "#Print the converted set of age\n",
    "print('The set of ages -',age_set)\n",
    "\n",
    "#compare the length of the list and the set\n",
    "print('On comparing length of list and set -',len_age_list == len_age_set)\n"
   ]
  },
  {
   "cell_type": "code",
   "execution_count": 65,
   "id": "26bd0336",
   "metadata": {},
   "outputs": [
    {
     "name": "stdout",
     "output_type": "stream",
     "text": [
      "the area of circle is: 2827.4333882308138\n",
      "the circumference of circle is: 188.49555921538757\n"
     ]
    }
   ],
   "source": [
    "#Question 5\n",
    "\n",
    "#Calculate area of circle\n",
    "from math import pi\n",
    "radius = 30\n",
    "\n",
    "#Perform math cal to determine area of circle\n",
    "area_of_circle = pi * radius ** 2\n",
    "print('the area of circle is:',area_of_circle)\n",
    "\n",
    "#Calculate circumference of cicle\n",
    "circum_of_circle = 2 * pi * radius\n",
    "print('the circumference of circle is:',circum_of_circle)"
   ]
  },
  {
   "cell_type": "code",
   "execution_count": 66,
   "id": "6900bab1",
   "metadata": {},
   "outputs": [
    {
     "name": "stdout",
     "output_type": "stream",
     "text": [
      "please enter the value of radius:30\n",
      "the area of circle is: 2827.4333882308138\n"
     ]
    }
   ],
   "source": [
    "#Take radius as user input and calculate the area\n",
    "import math as M\n",
    "\n",
    "#Take input from the user\n",
    "radius = float(input('please enter the value of radius:'))\n",
    "\n",
    "#Calculate radius\n",
    "area_of_the_circle = pi * radius ** 2\n",
    "\n",
    "#print radius\n",
    "print('the area of circle is:',area_of_the_circle)"
   ]
  },
  {
   "cell_type": "code",
   "execution_count": 67,
   "id": "bd1a126e",
   "metadata": {},
   "outputs": [
    {
     "name": "stdout",
     "output_type": "stream",
     "text": [
      "the unique words of sentence {'a', 'inspire', 'people', 'am', 'teach', 'and', 'I', 'teacher', 'to', 'love'}\n",
      "Total number of unique words in the sentence: 10\n"
     ]
    }
   ],
   "source": [
    "#Question 6\n",
    "#Calcualte number of unique words used\n",
    "\n",
    "sentence = ('I am a teacher and I love to inspire and teach people')\n",
    "\n",
    "#spilt the sentence into words\n",
    "splitted_sentence = sentence.split()\n",
    "\n",
    "#convert divided words into set\n",
    "wrd_set_of_sentence = set(splitted_sentence)\n",
    "\n",
    "print('the unique words of sentence',wrd_set_of_sentence)\n",
    "#calculate length of set\n",
    "print('Total number of unique words in the sentence:',len(wrd_set_of_sentence))\n"
   ]
  },
  {
   "cell_type": "code",
   "execution_count": 68,
   "id": "152e19d6",
   "metadata": {},
   "outputs": [
    {
     "name": "stdout",
     "output_type": "stream",
     "text": [
      "Name\t\tAge\tCountry\tCity\n",
      "Asabeneh\t250\tFinland\tHelsinki\n"
     ]
    }
   ],
   "source": [
    "#Question 7\n",
    "#Using tab escape sequence to get the following lines.\n",
    "heading = 'Name\\t\\tAge\\tCountry\\tCity'\n",
    "values = 'Asabeneh\\t250\\tFinland\\tHelsinki'\n",
    "print(heading)\n",
    "print(values)"
   ]
  },
  {
   "cell_type": "code",
   "execution_count": 69,
   "id": "b4c49009",
   "metadata": {},
   "outputs": [
    {
     "name": "stdout",
     "output_type": "stream",
     "text": [
      "string format: “The area of a circle with radius 10 is 314.0 meters square.”\n"
     ]
    }
   ],
   "source": [
    "#Question 8\n",
    "#Use the string formatting method to display the output\n",
    "radius = 10\n",
    "area = 3.14 * radius ** 2\n",
    "\n",
    "#String format of displaying output\n",
    "output = '“The area of a circle with radius {} is {} meters square.”'.format(str(radius),str(area))\n",
    "print('string format:',output)"
   ]
  },
  {
   "cell_type": "code",
   "execution_count": 70,
   "id": "993a94a1",
   "metadata": {},
   "outputs": [
    {
     "name": "stdout",
     "output_type": "stream",
     "text": [
      "Enter number of students and their weights in lbs : 4\n",
      "150\n",
      "155\n",
      "145\n",
      "148\n",
      "The student weights in lbs are: [150, 155, 145, 148]\n",
      "The student weights in kgs respectively are: [68.0388, 70.30676, 65.77083999999999, 67.131616]\n"
     ]
    }
   ],
   "source": [
    "#Question 9\n",
    "#convert weights to kilograms --># 1 Lb = 0.453592 Kg\n",
    "# using an empty list\n",
    "student_weights_lbs_lst = []\n",
    "student_weights_kgs_lst = []\n",
    "  \n",
    "# number of elements as user input\n",
    "n = int(input(\"Enter number of students and their weights in lbs : \"))\n",
    "  \n",
    "# looping till the range\n",
    "for i in range(0, n):\n",
    "    user_inputs = int(input())\n",
    "  \n",
    "    student_weights_lbs_lst.append(user_inputs) # adding the element\n",
    "      \n",
    "    lbs = float(user_inputs)\n",
    "    kilo_grams = lbs * 0.453592\n",
    "    student_weights_kgs_lst.append(kilo_grams)\n",
    "print('The student weights in lbs are:',student_weights_lbs_lst)\n",
    "print('The student weights in kgs respectively are:',student_weights_kgs_lst)"
   ]
  },
  {
   "cell_type": "code",
   "execution_count": 71,
   "id": "bf889be8",
   "metadata": {},
   "outputs": [
    {
     "name": "stdout",
     "output_type": "stream",
     "text": [
      "The train and test data are: [[7], [3], [1], [6]] [[10], [11], [6], [2]] [0, 1, 0, 1] [0, 0, 1, 0]\n"
     ]
    }
   ],
   "source": [
    "#Question 10\n",
    "\n",
    "#Import required libraries\n",
    "import pandas as pd\n",
    "from sklearn.model_selection import train_test_split\n",
    "from sklearn.neighbors import KNeighborsClassifier\n",
    "from sklearn.metrics import confusion_matrix\n",
    "\n",
    "#Defining 2 classes x and y from the given data set\n",
    "data_points = [[1,0],[2,0],[3,1],[6,1],[6,1],[7,0],[10,0],[11,0]]\n",
    "x = [[1],[2],[3],[6],[6],[7],[10],[11]]\n",
    "y = [0,0,1,1,1,0,0,0]\n",
    "\n",
    "# divide the data equally for training and testing\n",
    "x_train, x_test, y_train, y_test = train_test_split(x,y, test_size=0.5, random_state=33)\n",
    "\n",
    "#Print the train and test data\n",
    "print('The train and test data are:',x_train, x_test, y_train, y_test)\n"
   ]
  },
  {
   "cell_type": "code",
   "execution_count": 72,
   "id": "ccd9de5c",
   "metadata": {},
   "outputs": [
    {
     "name": "stdout",
     "output_type": "stream",
     "text": [
      "predicted output for test samples [1 1 1 1]\n"
     ]
    }
   ],
   "source": [
    "#Using KNN classifer for K = 3 predicting output of the test samples \n",
    "\n",
    "classifier = KNeighborsClassifier(n_neighbors=3,p=2,metric='euclidean')\n",
    "classifier.fit(x_train, y_train)\n",
    "y_test_pred = classifier.predict(x_test)\n",
    "print('predicted output for test samples',y_test_pred)"
   ]
  },
  {
   "cell_type": "code",
   "execution_count": 51,
   "id": "7d4784ed",
   "metadata": {},
   "outputs": [
    {
     "name": "stdout",
     "output_type": "stream",
     "text": [
      "The confusion matrix is: [[0 3]\n",
      " [0 1]]\n"
     ]
    }
   ],
   "source": [
    "# Calculate the confusion matrix\n",
    "con_mat = confusion_matrix(y_test, y_pred)\n",
    "print('The confusion matrix is:',con_mat)"
   ]
  },
  {
   "cell_type": "code",
   "execution_count": 52,
   "id": "659650e1",
   "metadata": {},
   "outputs": [
    {
     "name": "stdout",
     "output_type": "stream",
     "text": [
      "The calculated accuracy is: 0.25\n",
      "The calculated sensitivty: 0.0\n",
      "The calculate specificty: 1.0\n"
     ]
    }
   ],
   "source": [
    "#calculate accuracy, sensitivity and specificity values.\n",
    "\n",
    "T_P = con_mat[0][0]\n",
    "T_N = con_mat[1][1]\n",
    "F_P = con_mat[1][0]\n",
    "F_N = con_mat[0][1]\n",
    "\n",
    "Accuracy = (T_P+T_N)/4\n",
    "print('The calculated accuracy is:',Accuracy)\n",
    "\n",
    "# Calculating sensitivity\n",
    "Sensitivity  = T_P/(T_P+F_N)\n",
    "print('The calculated sensitivty:',Sensitivity)\n",
    "\n",
    "#Calculated Specificity\n",
    "Specificity = T_N/(F_P+T_N)\n",
    "print('The calculate specificty:',Specificity)"
   ]
  },
  {
   "cell_type": "code",
   "execution_count": null,
   "id": "eaf196a6",
   "metadata": {},
   "outputs": [],
   "source": []
  },
  {
   "cell_type": "code",
   "execution_count": null,
   "id": "693f3729",
   "metadata": {},
   "outputs": [],
   "source": []
  },
  {
   "cell_type": "code",
   "execution_count": null,
   "id": "ff280c19",
   "metadata": {},
   "outputs": [],
   "source": []
  },
  {
   "cell_type": "code",
   "execution_count": null,
   "id": "96f9a9fa",
   "metadata": {},
   "outputs": [],
   "source": []
  },
  {
   "cell_type": "code",
   "execution_count": null,
   "id": "c06247ac",
   "metadata": {},
   "outputs": [],
   "source": []
  },
  {
   "cell_type": "code",
   "execution_count": null,
   "id": "e249abb7",
   "metadata": {},
   "outputs": [],
   "source": []
  }
 ],
 "metadata": {
  "kernelspec": {
   "display_name": "Python 3 (ipykernel)",
   "language": "python",
   "name": "python3"
  },
  "language_info": {
   "codemirror_mode": {
    "name": "ipython",
    "version": 3
   },
   "file_extension": ".py",
   "mimetype": "text/x-python",
   "name": "python",
   "nbconvert_exporter": "python",
   "pygments_lexer": "ipython3",
   "version": "3.9.12"
  }
 },
 "nbformat": 4,
 "nbformat_minor": 5
}
